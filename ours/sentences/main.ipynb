{
 "cells": [
  {
   "cell_type": "markdown",
   "metadata": {},
   "source": [
    "# Imports"
   ]
  },
  {
   "cell_type": "code",
   "execution_count": 2,
   "metadata": {},
   "outputs": [],
   "source": [
    "import re\n",
    "import nltk\n",
    "import pandas as pd\n",
    "\n",
    "from nltk.corpus import words\n",
    "from nltk.tokenize import word_tokenize"
   ]
  },
  {
   "cell_type": "code",
   "execution_count": 3,
   "metadata": {},
   "outputs": [],
   "source": [
    "df = pd.read_excel('EnglishTenseUniqueDataset.xlsx', engine='openpyxl')\n"
   ]
  },
  {
   "cell_type": "code",
   "execution_count": 8,
   "metadata": {},
   "outputs": [],
   "source": [
    "df['has_digit'] = df['Sentence'].str.contains(r'\\d', regex=True, na=False)"
   ]
  },
  {
   "cell_type": "code",
   "execution_count": 10,
   "metadata": {},
   "outputs": [],
   "source": [
    "df = df.sort_values(by='has_digit', ascending=False)"
   ]
  },
  {
   "cell_type": "code",
   "execution_count": 12,
   "metadata": {},
   "outputs": [],
   "source": [
    "with open('sentences.txt', 'w') as file:\n",
    "    for sentence in df['Sentence']:\n",
    "        file.write(f\"{sentence.lower().strip()}\\n\")"
   ]
  },
  {
   "cell_type": "code",
   "execution_count": 14,
   "metadata": {},
   "outputs": [
    {
     "name": "stdout",
     "output_type": "stream",
     "text": [
      "Digit Frequency:\n",
      "   Digit  Frequency\n",
      "1     0       1200\n",
      "4     1        155\n",
      "0     2       1051\n",
      "7     3        324\n",
      "3     4        368\n",
      "2     5        212\n",
      "5     6         87\n",
      "8     7         81\n",
      "9     8         83\n",
      "6     9         90\n",
      "\n",
      "Letter Frequency:\n",
      "    Letter  Frequency\n",
      "2       a      64873\n",
      "0       b      14198\n",
      "5       c      31926\n",
      "13      d      29687\n",
      "8       e     106230\n",
      "16      f      16114\n",
      "14      g      21181\n",
      "6       h      31524\n",
      "3       i      72394\n",
      "21      j        784\n",
      "24      k       4227\n",
      "11      l      40809\n",
      "19      m      20138\n",
      "15      n      63741\n",
      "17      o      54798\n",
      "22      p      20081\n",
      "25      q        797\n",
      "4       r      53862\n",
      "9       s      54837\n",
      "7       t      68433\n",
      "18      u      21395\n",
      "12      v      13885\n",
      "10      w      12506\n",
      "20      x       2491\n",
      "1       y      13062\n",
      "23      z       1749\n"
     ]
    }
   ],
   "source": [
    "import pandas as pd\n",
    "from collections import Counter\n",
    "\n",
    "# Assuming 'df' is your DataFrame\n",
    "# Join all sentences into a single string and convert to lowercase for case insensitivity\n",
    "all_text = ''.join(df['Sentence'].astype(str)).lower()\n",
    "\n",
    "# Count digit and letter frequency\n",
    "counts = Counter(char for char in all_text if char.isalnum())  # alnum ensures only letters and digits\n",
    "\n",
    "# Separate counts for digits and letters\n",
    "digit_counts = {k: v for k, v in counts.items() if k.isdigit()}\n",
    "letter_counts = {k: v for k, v in counts.items() if k.isalpha()}\n",
    "\n",
    "# Convert to DataFrames for easier visualization\n",
    "digit_frequency = pd.DataFrame(digit_counts.items(), columns=['Digit', 'Frequency']).sort_values(by='Digit')\n",
    "letter_frequency = pd.DataFrame(letter_counts.items(), columns=['Letter', 'Frequency']).sort_values(by='Letter')\n",
    "\n",
    "# Display the results\n",
    "print(\"Digit Frequency:\\n\", digit_frequency)\n",
    "print(\"\\nLetter Frequency:\\n\", letter_frequency)\n"
   ]
  },
  {
   "cell_type": "code",
   "execution_count": 17,
   "metadata": {},
   "outputs": [
    {
     "name": "stdout",
     "output_type": "stream",
     "text": [
      "<class 'pandas.core.frame.DataFrame'>\n",
      "Index: 13316 entries, 0 to 13315\n",
      "Data columns (total 3 columns):\n",
      " #   Column     Non-Null Count  Dtype \n",
      "---  ------     --------------  ----- \n",
      " 0   Sentence   13316 non-null  object\n",
      " 1   Labels     13316 non-null  object\n",
      " 2   has_digit  13316 non-null  bool  \n",
      "dtypes: bool(1), object(2)\n",
      "memory usage: 325.1+ KB\n"
     ]
    }
   ],
   "source": [
    "df.info()"
   ]
  },
  {
   "cell_type": "code",
   "execution_count": null,
   "metadata": {},
   "outputs": [],
   "source": []
  }
 ],
 "metadata": {
  "kernelspec": {
   "display_name": "llm",
   "language": "python",
   "name": "python3"
  },
  "language_info": {
   "codemirror_mode": {
    "name": "ipython",
    "version": 3
   },
   "file_extension": ".py",
   "mimetype": "text/x-python",
   "name": "python",
   "nbconvert_exporter": "python",
   "pygments_lexer": "ipython3",
   "version": "3.12.2"
  }
 },
 "nbformat": 4,
 "nbformat_minor": 2
}
